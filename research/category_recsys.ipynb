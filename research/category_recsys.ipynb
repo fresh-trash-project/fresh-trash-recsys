{
 "cells": [
  {
   "cell_type": "markdown",
   "metadata": {},
   "source": [
    "## 코사인 유사도"
   ]
  },
  {
   "cell_type": "code",
   "execution_count": 6,
   "metadata": {},
   "outputs": [],
   "source": [
    "from numpy import dot\n",
    "from numpy.linalg import norm\n",
    "\n",
    "def cos_sim(A, B):\n",
    "  return dot(A, B)/(norm(A)*norm(B))"
   ]
  },
  {
   "cell_type": "markdown",
   "metadata": {},
   "source": [
    "## 가장 많이 구매한 카테고리"
   ]
  },
  {
   "cell_type": "code",
   "execution_count": 2,
   "metadata": {},
   "outputs": [
    {
     "name": "stdout",
     "output_type": "stream",
     "text": [
      "[0.66666667 0.2        0.13333333 0.         0.         0.\n",
      " 0.         0.         0.         0.         0.        ]\n"
     ]
    }
   ],
   "source": [
    "import numpy as np\n",
    "\n",
    "# 사용자 프로필 -> 카테고리별 구매 횟수\n",
    "user_profile = np.array([0] * 11)\n",
    "user_profile[0] = 10\n",
    "user_profile[1] = 3\n",
    "user_profile[2] = 2\n",
    "\n",
    "# count / sum\n",
    "print(user_profile / user_profile.sum())\n"
   ]
  },
  {
   "cell_type": "markdown",
   "metadata": {},
   "source": [
    "## 본문 + 카테고리 유사도 계산"
   ]
  },
  {
   "cell_type": "code",
   "execution_count": 8,
   "metadata": {},
   "outputs": [
    {
     "name": "stdout",
     "output_type": "stream",
     "text": [
      "250002\n"
     ]
    },
    {
     "name": "stderr",
     "output_type": "stream",
     "text": [
      "/opt/homebrew/lib/python3.11/site-packages/transformers/tokenization_utils_base.py:1601: FutureWarning: `clean_up_tokenization_spaces` was not set. It will be set to `True` by default. This behavior will be depracted in transformers v4.45, and will be then set to `False` by default. For more details check this issue: https://github.com/huggingface/transformers/issues/31884\n",
      "  warnings.warn(\n"
     ]
    }
   ],
   "source": [
    "from transformers import AutoTokenizer\n",
    "\n",
    "tokenizer = AutoTokenizer.from_pretrained(\"xlm-roberta-base\")\n",
    "print(tokenizer.vocab_size)"
   ]
  },
  {
   "cell_type": "code",
   "execution_count": 9,
   "metadata": {},
   "outputs": [
    {
     "name": "stdout",
     "output_type": "stream",
     "text": [
      "(250013,)\n",
      "(250013,)\n"
     ]
    }
   ],
   "source": [
    "user_profile = np.array([0.] * (tokenizer.vocab_size + 11))\n",
    "user_profile[-1] = 3\n",
    "user_profile /= user_profile.sum()\n",
    "\n",
    "def encode(content: str):\n",
    "    return tokenizer.encode(content, return_tensors='np')\n",
    "\n",
    "# 구매한 내역\n",
    "buyed1 = \"노트북 구매하면서 필요가 없어졌네요\"\n",
    "user_profile[encode(buyed1)] += 1\n",
    "buyed2 = \"그래픽 1080이고 씨피유는 i5 7500 ssd 256g 메인보드 b250 바주카 게이밍\"\n",
    "user_profile[encode(buyed2)] += 1\n",
    "buyed3 = \"사양 및 구매 일자는 사진에 포함되어 있습니다.\"\n",
    "user_profile[encode(buyed3)] += 1\n",
    "\n",
    "user_profile /= 3 # 가중 평균\n",
    "\n",
    "post_profile = np.array([0.] * (tokenizer.vocab_size + 11))\n",
    "post = \"노트북 구매하면서 필요가 없어졌네요\"\n",
    "post_profile[encode(post)] += 1\n",
    "post_profile[-1] += 1\n",
    "\n",
    "print(user_profile.shape)\n",
    "print(post_profile.shape)"
   ]
  },
  {
   "cell_type": "code",
   "execution_count": 10,
   "metadata": {},
   "outputs": [
    {
     "data": {
      "text/plain": [
       "0.588348405414552"
      ]
     },
     "execution_count": 10,
     "metadata": {},
     "output_type": "execute_result"
    }
   ],
   "source": [
    "cos_sim(user_profile, post_profile).item()"
   ]
  }
 ],
 "metadata": {
  "kernelspec": {
   "display_name": "Python 3",
   "language": "python",
   "name": "python3"
  },
  "language_info": {
   "codemirror_mode": {
    "name": "ipython",
    "version": 3
   },
   "file_extension": ".py",
   "mimetype": "text/x-python",
   "name": "python",
   "nbconvert_exporter": "python",
   "pygments_lexer": "ipython3",
   "version": "3.11.7"
  }
 },
 "nbformat": 4,
 "nbformat_minor": 2
}
